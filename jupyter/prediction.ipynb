{
 "cells": [
  {
   "cell_type": "code",
   "execution_count": 1,
   "metadata": {},
   "outputs": [
    {
     "name": "stderr",
     "output_type": "stream",
     "text": [
      "Using TensorFlow backend.\n"
     ]
    }
   ],
   "source": [
    "import numpy as np\n",
    "import pandas as pd\n",
    "import sys\n",
    "import pickle\n",
    "\n",
    "sys.path.append('../')\n",
    "sys.path.append('../utils/')\n",
    "\n",
    "from utils.models import Predictor\n",
    "from utils.common_utils import *\n",
    "from utils.data_prepare_utils import *\n",
    "from utils.bayes_utils import *\n",
    "from utils.process_finder import *"
   ]
  },
  {
   "cell_type": "code",
   "execution_count": 2,
   "metadata": {},
   "outputs": [],
   "source": [
    "file_path = '../data/train_data/okaribe_train.csv'\n",
    "weight_path = '../model/model_weights/okaribe_train_cls_high_acc.h5'"
   ]
  },
  {
   "cell_type": "code",
   "execution_count": 3,
   "metadata": {},
   "outputs": [
    {
     "name": "stdout",
     "output_type": "stream",
     "text": [
      "WARNING:tensorflow:From /home/rewu/anaconda3/lib/python3.7/site-packages/keras/backend/tensorflow_backend.py:4070: The name tf.nn.max_pool is deprecated. Please use tf.nn.max_pool2d instead.\n",
      "\n"
     ]
    },
    {
     "name": "stderr",
     "output_type": "stream",
     "text": [
      "/home/rewu/anaconda3/lib/python3.7/site-packages/keras_preprocessing/image/dataframe_iterator.py:273: UserWarning: Found 766 invalid image filename(s) in x_col=\"path\". These filename(s) will be ignored.\n",
      "  .format(n_invalid, x_col)\n"
     ]
    },
    {
     "name": "stdout",
     "output_type": "stream",
     "text": [
      "Found 25154 validated image filenames belonging to 8 classes.\n"
     ]
    }
   ],
   "source": [
    "predictor = Predictor(file_path)\n",
    "predictor.load_weight(weight_path)"
   ]
  },
  {
   "cell_type": "code",
   "execution_count": 4,
   "metadata": {},
   "outputs": [
    {
     "name": "stdout",
     "output_type": "stream",
     "text": [
      "WARNING:tensorflow:From /home/rewu/anaconda3/lib/python3.7/site-packages/keras/backend/tensorflow_backend.py:422: The name tf.global_variables is deprecated. Please use tf.compat.v1.global_variables instead.\n",
      "\n",
      "25154/25154 [==============================] - 291s 12ms/step\n"
     ]
    }
   ],
   "source": [
    "df_cls_res = get_classifier_result(file_path,predictor)\n"
   ]
  },
  {
   "cell_type": "markdown",
   "metadata": {},
   "source": [
    "# Combine detect, Cls, original "
   ]
  },
  {
   "cell_type": "code",
   "execution_count": 5,
   "metadata": {},
   "outputs": [],
   "source": [
    "yolo_train_res_path = '/home/rewu/Documents/research/cv_tunnel/train-master/result_okaribe/detect_train.csv'\n",
    "\n",
    "df_yolo_veh = pd.read_csv(yolo_train_res_path)\n",
    "df_full_res_clean = pd.read_csv(file_path)"
   ]
  },
  {
   "cell_type": "code",
   "execution_count": 6,
   "metadata": {},
   "outputs": [],
   "source": [
    "df_cls_obj_pred = combine_detect_cls(df_cls_res,df_yolo_veh)"
   ]
  },
  {
   "cell_type": "code",
   "execution_count": 7,
   "metadata": {},
   "outputs": [
    {
     "data": {
      "text/html": [
       "<div>\n",
       "<style scoped>\n",
       "    .dataframe tbody tr th:only-of-type {\n",
       "        vertical-align: middle;\n",
       "    }\n",
       "\n",
       "    .dataframe tbody tr th {\n",
       "        vertical-align: top;\n",
       "    }\n",
       "\n",
       "    .dataframe thead th {\n",
       "        text-align: right;\n",
       "    }\n",
       "</style>\n",
       "<table border=\"1\" class=\"dataframe\">\n",
       "  <thead>\n",
       "    <tr style=\"text-align: right;\">\n",
       "      <th></th>\n",
       "      <th>cls_pred</th>\n",
       "      <th>path</th>\n",
       "      <th>name</th>\n",
       "      <th>Excavator</th>\n",
       "      <th>Shovel</th>\n",
       "      <th>Jumbo</th>\n",
       "      <th>Loader</th>\n",
       "      <th>Mixer</th>\n",
       "      <th>Person</th>\n",
       "      <th>Skymaster</th>\n",
       "      <th>Dump_truck</th>\n",
       "      <th>Erector</th>\n",
       "      <th>Breaker</th>\n",
       "      <th>Mortar_truck</th>\n",
       "      <th>Shotcrete_equip</th>\n",
       "      <th>Erector_shotcrete_equip</th>\n",
       "      <th>Material_truck</th>\n",
       "      <th>blur</th>\n",
       "    </tr>\n",
       "  </thead>\n",
       "  <tbody>\n",
       "    <tr>\n",
       "      <th>0</th>\n",
       "      <td>0</td>\n",
       "      <td>data/okaribe/data/C20190101-0000.jpg</td>\n",
       "      <td>C20190101-0000.jpg</td>\n",
       "      <td>0.0</td>\n",
       "      <td>0.0</td>\n",
       "      <td>0.0</td>\n",
       "      <td>0.0</td>\n",
       "      <td>0.0</td>\n",
       "      <td>0.0</td>\n",
       "      <td>0.0</td>\n",
       "      <td>0.0</td>\n",
       "      <td>0.0</td>\n",
       "      <td>0.0</td>\n",
       "      <td>0.0</td>\n",
       "      <td>0.0</td>\n",
       "      <td>0.0</td>\n",
       "      <td>0.0</td>\n",
       "      <td>0.0</td>\n",
       "    </tr>\n",
       "    <tr>\n",
       "      <th>1</th>\n",
       "      <td>0</td>\n",
       "      <td>data/okaribe/data/C20190101-0005.jpg</td>\n",
       "      <td>C20190101-0005.jpg</td>\n",
       "      <td>0.0</td>\n",
       "      <td>0.0</td>\n",
       "      <td>0.0</td>\n",
       "      <td>0.0</td>\n",
       "      <td>0.0</td>\n",
       "      <td>0.0</td>\n",
       "      <td>0.0</td>\n",
       "      <td>0.0</td>\n",
       "      <td>0.0</td>\n",
       "      <td>0.0</td>\n",
       "      <td>0.0</td>\n",
       "      <td>0.0</td>\n",
       "      <td>0.0</td>\n",
       "      <td>0.0</td>\n",
       "      <td>0.0</td>\n",
       "    </tr>\n",
       "    <tr>\n",
       "      <th>2</th>\n",
       "      <td>0</td>\n",
       "      <td>data/okaribe/data/C20190101-0010.jpg</td>\n",
       "      <td>C20190101-0010.jpg</td>\n",
       "      <td>0.0</td>\n",
       "      <td>0.0</td>\n",
       "      <td>0.0</td>\n",
       "      <td>0.0</td>\n",
       "      <td>0.0</td>\n",
       "      <td>0.0</td>\n",
       "      <td>0.0</td>\n",
       "      <td>0.0</td>\n",
       "      <td>0.0</td>\n",
       "      <td>0.0</td>\n",
       "      <td>0.0</td>\n",
       "      <td>0.0</td>\n",
       "      <td>0.0</td>\n",
       "      <td>0.0</td>\n",
       "      <td>0.0</td>\n",
       "    </tr>\n",
       "    <tr>\n",
       "      <th>3</th>\n",
       "      <td>0</td>\n",
       "      <td>data/okaribe/data/C20190101-0015.jpg</td>\n",
       "      <td>C20190101-0015.jpg</td>\n",
       "      <td>0.0</td>\n",
       "      <td>0.0</td>\n",
       "      <td>0.0</td>\n",
       "      <td>0.0</td>\n",
       "      <td>0.0</td>\n",
       "      <td>0.0</td>\n",
       "      <td>0.0</td>\n",
       "      <td>0.0</td>\n",
       "      <td>0.0</td>\n",
       "      <td>0.0</td>\n",
       "      <td>0.0</td>\n",
       "      <td>0.0</td>\n",
       "      <td>0.0</td>\n",
       "      <td>0.0</td>\n",
       "      <td>0.0</td>\n",
       "    </tr>\n",
       "    <tr>\n",
       "      <th>4</th>\n",
       "      <td>0</td>\n",
       "      <td>data/okaribe/data/C20190101-0020.jpg</td>\n",
       "      <td>C20190101-0020.jpg</td>\n",
       "      <td>0.0</td>\n",
       "      <td>0.0</td>\n",
       "      <td>0.0</td>\n",
       "      <td>0.0</td>\n",
       "      <td>0.0</td>\n",
       "      <td>0.0</td>\n",
       "      <td>0.0</td>\n",
       "      <td>0.0</td>\n",
       "      <td>0.0</td>\n",
       "      <td>0.0</td>\n",
       "      <td>0.0</td>\n",
       "      <td>0.0</td>\n",
       "      <td>0.0</td>\n",
       "      <td>0.0</td>\n",
       "      <td>0.0</td>\n",
       "    </tr>\n",
       "  </tbody>\n",
       "</table>\n",
       "</div>"
      ],
      "text/plain": [
       "   cls_pred                                  path                name  \\\n",
       "0         0  data/okaribe/data/C20190101-0000.jpg  C20190101-0000.jpg   \n",
       "1         0  data/okaribe/data/C20190101-0005.jpg  C20190101-0005.jpg   \n",
       "2         0  data/okaribe/data/C20190101-0010.jpg  C20190101-0010.jpg   \n",
       "3         0  data/okaribe/data/C20190101-0015.jpg  C20190101-0015.jpg   \n",
       "4         0  data/okaribe/data/C20190101-0020.jpg  C20190101-0020.jpg   \n",
       "\n",
       "   Excavator  Shovel  Jumbo  Loader  Mixer  Person  Skymaster  Dump_truck  \\\n",
       "0        0.0     0.0    0.0     0.0    0.0     0.0        0.0         0.0   \n",
       "1        0.0     0.0    0.0     0.0    0.0     0.0        0.0         0.0   \n",
       "2        0.0     0.0    0.0     0.0    0.0     0.0        0.0         0.0   \n",
       "3        0.0     0.0    0.0     0.0    0.0     0.0        0.0         0.0   \n",
       "4        0.0     0.0    0.0     0.0    0.0     0.0        0.0         0.0   \n",
       "\n",
       "   Erector  Breaker  Mortar_truck  Shotcrete_equip  Erector_shotcrete_equip  \\\n",
       "0      0.0      0.0           0.0              0.0                      0.0   \n",
       "1      0.0      0.0           0.0              0.0                      0.0   \n",
       "2      0.0      0.0           0.0              0.0                      0.0   \n",
       "3      0.0      0.0           0.0              0.0                      0.0   \n",
       "4      0.0      0.0           0.0              0.0                      0.0   \n",
       "\n",
       "   Material_truck  blur  \n",
       "0             0.0   0.0  \n",
       "1             0.0   0.0  \n",
       "2             0.0   0.0  \n",
       "3             0.0   0.0  \n",
       "4             0.0   0.0  "
      ]
     },
     "execution_count": 7,
     "metadata": {},
     "output_type": "execute_result"
    }
   ],
   "source": [
    "df_cls_obj_pred.head()"
   ]
  },
  {
   "cell_type": "code",
   "execution_count": 8,
   "metadata": {},
   "outputs": [],
   "source": [
    "df_tot = pd.merge(df_cls_obj_pred,df_full_res_clean,on='path',how='inner')"
   ]
  },
  {
   "cell_type": "code",
   "execution_count": 9,
   "metadata": {},
   "outputs": [],
   "source": [
    "start_date = '2019-01-01 00:00:00'\n",
    "end_date = '2019-04-10 00:00:00'\n",
    "short_period_df= select_short_period_df(df_tot,start_date,end_date)\n",
    "\n"
   ]
  },
  {
   "cell_type": "code",
   "execution_count": 10,
   "metadata": {},
   "outputs": [
    {
     "name": "stderr",
     "output_type": "stream",
     "text": [
      "../utils/process_finder.py:125: SettingWithCopyWarning: \n",
      "A value is trying to be set on a copy of a slice from a DataFrame.\n",
      "Try using .loc[row_indexer,col_indexer] = value instead\n",
      "\n",
      "See the caveats in the documentation: http://pandas.pydata.org/pandas-docs/stable/indexing.html#indexing-view-versus-copy\n",
      "  short_period_df['datetime'] = pd.DatetimeIndex(short_period_df['datetime'])\n",
      "../utils/process_finder.py:126: SettingWithCopyWarning: \n",
      "A value is trying to be set on a copy of a slice from a DataFrame.\n",
      "Try using .loc[row_indexer,col_indexer] = value instead\n",
      "\n",
      "See the caveats in the documentation: http://pandas.pydata.org/pandas-docs/stable/indexing.html#indexing-view-versus-copy\n",
      "  short_period_df['in_process_time'] = 0\n",
      "../utils/process_finder.py:127: SettingWithCopyWarning: \n",
      "A value is trying to be set on a copy of a slice from a DataFrame.\n",
      "Try using .loc[row_indexer,col_indexer] = value instead\n",
      "\n",
      "See the caveats in the documentation: http://pandas.pydata.org/pandas-docs/stable/indexing.html#indexing-view-versus-copy\n",
      "  short_period_df['process'] = 0\n"
     ]
    }
   ],
   "source": [
    "df_time,start_end_time_pairs = get_df_with_process(short_period_df)"
   ]
  },
  {
   "cell_type": "markdown",
   "metadata": {},
   "source": [
    "# Bayesian Prediction"
   ]
  },
  {
   "cell_type": "code",
   "execution_count": 11,
   "metadata": {},
   "outputs": [],
   "source": [
    "time_prob_df = pd.read_csv('../data/prior_knowledge/okaribe_time_cond_prob.csv')\n",
    "veh_prob_df = pd.read_csv('../data/prior_knowledge/veh_info.csv')\n",
    "\n",
    "with open('../data/prior_knowledge/vehicle_names.data', 'rb') as filehandle:\n",
    "    veh_names = pickle.load(filehandle)\n",
    "    \n",
    "prior_knowledge = (time_prob_df,veh_prob_df,veh_names)"
   ]
  },
  {
   "cell_type": "code",
   "execution_count": 83,
   "metadata": {},
   "outputs": [
    {
     "name": "stdout",
     "output_type": "stream",
     "text": [
      "remove wrong rest::  42 45\n",
      "0.9661016949152542 0.9322033898305084 0.05084745762711865\n",
      "remove wrong rest::  31 33\n",
      "remove wrong rest::  97 100\n",
      "0.8695652173913043 0.8869565217391304 0.4956521739130435\n",
      "remove wrong rest::  39 42\n",
      "remove wrong rest::  55 55\n",
      "0.875 0.8392857142857143 0.03571428571428571\n",
      "remove wrong rest::  73 76\n",
      "0.9438202247191011 0.9325842696629213 0.449438202247191\n",
      "remove wrong rest::  196 198\n",
      "remove wrong rest::  200 203\n",
      "remove wrong rest::  328 331\n",
      "remove wrong rest::  336 339\n",
      "remove wrong rest::  340 342\n",
      "remove wrong rest::  345 347\n",
      "0.7920792079207921 0.7871287128712872 0.7747524752475248\n",
      "remove wrong rest::  53 55\n",
      "0.8840579710144928 0.8260869565217391 0.2608695652173913\n",
      "0.9795918367346939 0.9795918367346939 0.4897959183673469\n",
      "0.9298245614035088 0.8771929824561403 0.17543859649122806\n",
      "remove wrong rest::  84 86\n",
      "0.9607843137254902 0.9215686274509803 0.23529411764705882\n",
      "remove wrong rest::  56 56\n",
      "0.9649122807017544 0.9649122807017544 0.017543859649122806\n",
      "0.9157894736842105 0.9263157894736842 0.42105263157894735\n",
      "remove wrong rest::  49 51\n",
      "0.9857142857142858 0.9142857142857143 0.14285714285714285\n",
      "remove wrong rest::  56 58\n",
      "remove wrong rest::  64 66\n",
      "0.8846153846153846 0.8461538461538461 0.47435897435897434\n",
      "remove wrong rest::  0 1\n",
      "remove wrong rest::  37 39\n",
      "0.9230769230769231 0.8846153846153846 0.0\n",
      "remove wrong rest::  78 80\n",
      "remove wrong rest::  89 91\n",
      "remove wrong rest::  640 641\n",
      "remove wrong rest::  646 647\n",
      "remove wrong rest::  718 719\n",
      "remove wrong rest::  802 803\n",
      "remove wrong rest::  828 829\n",
      "0.9569060773480663 0.9480662983425414 0.9248618784530387\n",
      "0.9411764705882353 0.9264705882352942 0.22058823529411764\n",
      "remove wrong rest::  75 77\n",
      "0.8804347826086957 0.8804347826086957 0.32608695652173914\n",
      "remove wrong rest::  66 69\n",
      "0.9428571428571428 0.9142857142857143 0.08571428571428572\n",
      "0.9315068493150684 0.9315068493150684 0.3972602739726027\n",
      "remove wrong rest::  0 1\n",
      "0.9848484848484849 0.9848484848484849 0.19696969696969696\n",
      "0.9560439560439561 0.9230769230769231 0.46153846153846156\n",
      "remove wrong rest::  0 1\n",
      "0.9333333333333333 0.9222222222222223 0.05555555555555555\n",
      "0.9107142857142857 0.8928571428571429 0.0\n",
      "remove wrong rest::  40 42\n",
      "remove wrong rest::  83 86\n",
      "remove wrong rest::  97 100\n",
      "remove wrong rest::  102 105\n",
      "remove wrong rest::  225 227\n",
      "remove wrong rest::  228 230\n",
      "remove wrong rest::  254 256\n",
      "remove wrong rest::  286 289\n",
      "remove wrong rest::  369 372\n",
      "0.95561850802644 0.9508970727101038 0.9187913125590179\n",
      "remove wrong rest::  0 1\n",
      "remove wrong rest::  25 27\n",
      "remove wrong rest::  28 30\n",
      "remove wrong rest::  56 58\n",
      "0.9012345679012346 0.8888888888888888 0.25925925925925924\n",
      "remove wrong rest::  78 80\n",
      "0.9278350515463918 0.9175257731958762 0.5360824742268041\n",
      "remove wrong rest::  37 39\n",
      "0.9629629629629629 0.9259259259259259 0.0\n",
      "remove wrong rest::  0 1\n",
      "0.975609756097561 0.9634146341463414 0.4268292682926829\n",
      "remove wrong rest::  46 48\n",
      "0.9672131147540983 0.9180327868852459 0.11475409836065574\n",
      "remove wrong rest::  61 64\n",
      "remove wrong rest::  76 76\n",
      "0.922077922077922 0.922077922077922 0.45454545454545453\n",
      "remove wrong rest::  36 39\n",
      "0.8679245283018868 0.8490566037735849 0.0\n",
      "remove wrong rest::  77 79\n",
      "remove wrong rest::  83 83\n",
      "0.9285714285714286 0.8571428571428571 0.39285714285714285\n",
      "remove wrong rest::  68 70\n",
      "remove wrong rest::  123 124\n",
      "remove wrong rest::  129 130\n",
      "remove wrong rest::  132 135\n",
      "remove wrong rest::  137 138\n",
      "remove wrong rest::  149 150\n",
      "remove wrong rest::  207 208\n",
      "remove wrong rest::  213 215\n",
      "remove wrong rest::  320 321\n",
      "remove wrong rest::  341 342\n",
      "0.8376288659793815 0.8324742268041238 0.8247422680412371\n",
      "remove wrong rest::  0 1\n",
      "remove wrong rest::  55 57\n",
      "remove wrong rest::  58 61\n",
      "remove wrong rest::  66 67\n",
      "0.9117647058823529 0.8235294117647058 0.17647058823529413\n",
      "remove wrong rest::  92 92\n",
      "0.9139784946236559 0.9247311827956989 0.2903225806451613\n",
      "0.9090909090909091 0.9090909090909091 0.0\n",
      "remove wrong rest::  59 61\n",
      "remove wrong rest::  71 71\n",
      "0.9166666666666666 0.8888888888888888 0.1527777777777778\n",
      "remove wrong rest::  37 39\n",
      "0.9821428571428571 0.9464285714285714 0.0\n",
      "remove wrong rest::  80 83\n",
      "remove wrong rest::  96 98\n",
      "remove wrong rest::  100 100\n",
      "0.9306930693069307 0.8613861386138614 0.24752475247524752\n",
      "0.9833024118738405 0.9833024118738405 0.7717996289424861\n",
      "0.9333333333333333 0.8666666666666667 0.022222222222222223\n",
      "remove wrong rest::  0 1\n",
      "remove wrong rest::  188 189\n",
      "remove wrong rest::  240 241\n",
      "remove wrong rest::  257 258\n",
      "remove wrong rest::  282 284\n",
      "remove wrong rest::  377 378\n",
      "0.8134328358208955 0.8258706467661692 0.7562189054726368\n",
      "remove wrong rest::  28 30\n",
      "remove wrong rest::  59 62\n",
      "0.9702970297029703 0.9653465346534653 0.6732673267326733\n",
      "remove wrong rest::  84 84\n",
      "0.9176470588235294 0.9058823529411765 0.43529411764705883\n",
      "remove wrong rest::  40 42\n",
      "0.9454545454545454 0.9272727272727272 0.0\n",
      "remove wrong rest::  62 65\n",
      "0.975609756097561 0.9512195121951219 0.43902439024390244\n",
      "0.9629629629629629 0.9444444444444444 0.0\n",
      "0.9230769230769231 0.9102564102564102 0.4358974358974359\n",
      "remove wrong rest::  42 44\n",
      "0.8909090909090909 0.8727272727272727 0.01818181818181818\n",
      "remove wrong rest::  73 75\n",
      "0.9438202247191011 0.898876404494382 0.0898876404494382\n",
      "remove wrong rest::  42 45\n",
      "remove wrong rest::  49 51\n",
      "remove wrong rest::  170 173\n",
      "remove wrong rest::  963 966\n",
      "0.962128966223132 0.962128966223132 0.9058341862845445\n",
      "remove wrong rest::  0 2\n",
      "0.7625 0.7625 0.125\n",
      "remove wrong rest::  0 1\n",
      "remove wrong rest::  89 90\n",
      "0.8241758241758241 0.8131868131868132 0.43956043956043955\n",
      "0.9438202247191011 0.9101123595505618 0.06741573033707865\n",
      "remove wrong rest::  49 50\n",
      "0.8235294117647058 0.8235294117647058 0.0784313725490196\n",
      "0.9512195121951219 0.9390243902439024 0.18292682926829268\n",
      "remove wrong rest::  72 74\n",
      "0.9069767441860465 0.8837209302325582 0.7325581395348837\n",
      "remove wrong rest::  51 51\n",
      "0.9807692307692307 0.9807692307692307 0.038461538461538464\n",
      "remove wrong rest::  49 51\n",
      "remove wrong rest::  78 80\n",
      "remove wrong rest::  89 90\n",
      "remove wrong rest::  102 105\n",
      "remove wrong rest::  113 113\n",
      "0.8508771929824561 0.8421052631578947 0.2807017543859649\n",
      "remove wrong rest::  80 80\n",
      "0.9012345679012346 0.8888888888888888 0.06172839506172839\n",
      "remove wrong rest::  30 33\n",
      "0.8636363636363636 0.8409090909090909 0.0\n",
      "remove wrong rest::  25 27\n",
      "0.8787878787878788 0.8787878787878788 0.22727272727272727\n",
      "remove wrong rest::  0 1\n",
      "remove wrong rest::  37 40\n",
      "remove wrong rest::  43 45\n",
      "remove wrong rest::  46 48\n",
      "remove wrong rest::  55 55\n",
      "0.8928571428571429 0.7678571428571429 0.0\n",
      "0.9642857142857143 0.9523809523809523 0.32142857142857145\n",
      "0.926829268292683 0.926829268292683 0.024390243902439025\n",
      "remove wrong rest::  931 932\n",
      "0.9957537154989384 0.9925690021231423 0.9437367303609342\n",
      "0.9615384615384616 0.8461538461538461 0.019230769230769232\n",
      "remove wrong rest::  29 31\n",
      "remove wrong rest::  84 84\n",
      "0.9411764705882353 0.8823529411764706 0.023529411764705882\n",
      "0.8833333333333333 0.8666666666666667 0.0\n",
      "0.975609756097561 0.9390243902439024 0.23170731707317074\n",
      "remove wrong rest::  0 1\n",
      "0.9487179487179487 0.9487179487179487 0.05128205128205128\n",
      "remove wrong rest::  0 1\n",
      "remove wrong rest::  38 41\n",
      "0.9294117647058824 0.8470588235294118 0.07058823529411765\n",
      "remove wrong rest::  29 31\n",
      "0.8837209302325582 0.8604651162790697 0.06976744186046512\n",
      "remove wrong rest::  40 42\n",
      "0.9354838709677419 0.9032258064516129 0.0\n",
      "0.8840579710144928 0.8695652173913043 0.43478260869565216\n",
      "0.96 0.96 0.02\n",
      "remove wrong rest::  26 28\n",
      "remove wrong rest::  61 63\n",
      "remove wrong rest::  74 74\n",
      "0.88 0.9066666666666666 0.44\n",
      "0.9811320754716981 1.0 0.0\n",
      "0.9634146341463414 0.9390243902439024 0.1951219512195122\n",
      "0.8867924528301887 0.9056603773584906 0.1509433962264151\n",
      "0.9814814814814815 0.9629629629629629 0.3148148148148148\n",
      "remove wrong rest::  36 38\n",
      "0.9682539682539683 0.9365079365079365 0.0\n",
      "0.9444444444444444 0.9583333333333334 0.2777777777777778\n",
      "remove wrong rest::  41 44\n",
      "0.9642857142857143 0.9107142857142857 0.07142857142857142\n",
      "remove wrong rest::  38 40\n",
      "0.9927272727272727 0.9872727272727273 0.7872727272727272\n",
      "remove wrong rest::  34 36\n",
      "remove wrong rest::  38 41\n",
      "0.9423076923076923 0.8653846153846154 0.019230769230769232\n",
      "0.9655172413793104 0.9482758620689655 0.06896551724137931\n",
      "remove wrong rest::  34 37\n",
      "0.9545454545454546 0.9090909090909091 0.0\n",
      "0.9634146341463414 0.9146341463414634 0.25609756097560976\n",
      "1.0 0.9787234042553191 0.0\n"
     ]
    },
    {
     "name": "stdout",
     "output_type": "stream",
     "text": [
      "remove wrong rest::  38 41\n",
      "0.9027777777777778 0.9166666666666666 0.25\n",
      "remove wrong rest::  34 36\n",
      "0.9272727272727272 0.8727272727272727 0.0\n",
      "remove wrong rest::  35 37\n",
      "0.9625 0.925 0.0375\n",
      "0.9807692307692307 0.9423076923076923 0.0\n",
      "0.963855421686747 0.9518072289156626 0.1566265060240964\n",
      "remove wrong rest::  0 1\n",
      "remove wrong rest::  47 49\n",
      "0.94 0.88 0.0\n",
      "0.9761904761904762 0.9761904761904762 0.07142857142857142\n",
      "remove wrong rest::  59 61\n",
      "0.9324324324324325 0.9054054054054054 0.4864864864864865\n",
      "0.9574468085106383 0.9361702127659575 0.02127659574468085\n",
      "0.9166666666666666 0.9166666666666666 0.35\n",
      "remove wrong rest::  32 34\n",
      "0.9824561403508771 0.9298245614035088 0.0\n",
      "remove wrong rest::  33 35\n",
      "0.975609756097561 0.9512195121951219 0.06097560975609756\n",
      "0.9361702127659575 0.9290780141843972 0.624113475177305\n",
      "0.9886524822695035 0.9886524822695035 0.8539007092198582\n",
      "remove wrong rest::  84 85\n",
      "remove wrong rest::  90 91\n",
      "0.9798657718120806 0.9530201342281879 0.4697986577181208\n",
      "remove wrong rest::  48 51\n",
      "0.96875 0.921875 0.15625\n",
      "0.967741935483871 0.978494623655914 0.26881720430107525\n",
      "0.9615384615384616 0.9423076923076923 0.019230769230769232\n",
      "remove wrong rest::  76 77\n",
      "0.9358974358974359 0.8846153846153846 0.1794871794871795\n",
      "0.9433962264150944 0.9056603773584906 0.018867924528301886\n",
      "remove wrong rest::  68 70\n",
      "0.9882352941176471 0.9647058823529412 0.16470588235294117\n",
      "0.9818181818181818 0.9818181818181818 0.0\n",
      "remove wrong rest::  115 116\n",
      "0.9743589743589743 0.9658119658119658 0.18803418803418803\n",
      "0.9791666666666666 0.9791666666666666 0.1875\n",
      "1.0 0.9615384615384616 0.019230769230769232\n",
      "0.9857142857142858 0.9857142857142858 0.05714285714285714\n",
      "remove wrong rest::  0 1\n",
      "remove wrong rest::  41 44\n",
      "0.9298245614035088 0.9122807017543859 0.03508771929824561\n",
      "0.9764705882352941 0.9647058823529412 0.023529411764705882\n",
      "0.9423076923076923 0.9038461538461539 0.0\n",
      "remove wrong rest::  42 44\n",
      "0.9864864864864865 0.9324324324324325 0.02702702702702703\n",
      "remove wrong rest::  40 42\n",
      "0.9930278884462151 0.9900398406374502 0.8874501992031872\n",
      "0.9454545454545454 0.9272727272727272 0.07272727272727272\n",
      "remove wrong rest::  44 46\n",
      "0.9540229885057471 0.9080459770114943 0.011494252873563218\n",
      "remove wrong rest::  0 1\n",
      "remove wrong rest::  37 39\n",
      "0.8269230769230769 0.8076923076923077 0.0\n",
      "0.9880952380952381 0.9642857142857143 0.03571428571428571\n",
      "remove wrong rest::  41 43\n",
      "0.9636363636363636 0.9272727272727272 0.05454545454545454\n",
      "remove wrong rest::  43 45\n",
      "0.9743589743589743 0.9487179487179487 0.23076923076923078\n",
      "0.9811320754716981 0.9245283018867925 0.0\n",
      "0.9770114942528736 0.9425287356321839 0.011494252873563218\n",
      "remove wrong rest::  0 1\n",
      "0.9464285714285714 0.9642857142857143 0.10714285714285714\n",
      "remove wrong rest::  0 1\n",
      "remove wrong rest::  40 42\n",
      "0.9764705882352941 0.9176470588235294 0.07058823529411765\n",
      "0.9423076923076923 0.9230769230769231 0.0\n",
      "0.9411764705882353 0.9294117647058824 0.058823529411764705\n",
      "remove wrong rest::  45 47\n",
      "0.95 0.9166666666666666 0.1\n",
      "0.918918918918919 0.8918918918918919 0.05405405405405406\n",
      "remove wrong rest::  49 51\n",
      "0.9230769230769231 0.8846153846153846 0.11538461538461539\n",
      "remove wrong rest::  646 647\n",
      "0.9907550077041603 0.9892141756548536 0.8197226502311248\n",
      "remove wrong rest::  29 31\n",
      "0.9333333333333333 0.8666666666666667 0.1111111111111111\n",
      "0.8412698412698413 0.8095238095238095 0.047619047619047616\n",
      "remove wrong rest::  0 1\n",
      "remove wrong rest::  47 49\n",
      "remove wrong rest::  79 79\n",
      "0.95 0.875 0.0375\n",
      "0.925 0.9375 0.4625\n",
      "0.9294117647058824 0.9176470588235294 0.0\n",
      "0.9444444444444444 0.9259259259259259 0.0\n",
      "remove wrong rest::  47 49\n",
      "0.9550561797752809 0.9325842696629213 0.06741573033707865\n",
      "remove wrong rest::  36 39\n",
      "0.8545454545454545 0.7272727272727273 0.0\n",
      "remove wrong rest::  35 38\n",
      "0.974025974025974 0.948051948051948 0.12987012987012986\n",
      "remove wrong rest::  0 1\n",
      "remove wrong rest::  38 40\n",
      "0.8983050847457628 0.847457627118644 0.01694915254237288\n",
      "remove wrong rest::  38 41\n",
      "0.9294117647058824 0.9294117647058824 0.3411764705882353\n",
      "remove wrong rest::  0 1\n",
      "0.9180327868852459 0.9016393442622951 0.19672131147540983\n",
      "remove wrong rest::  35 37\n",
      "remove wrong rest::  39 41\n",
      "remove wrong rest::  43 46\n",
      "0.9615384615384616 0.8717948717948718 0.21794871794871795\n",
      "remove wrong rest::  0 1\n",
      "remove wrong rest::  39 42\n",
      "0.9433962264150944 0.9433962264150944 0.05660377358490566\n",
      "remove wrong rest::  38 40\n",
      "0.9101123595505618 0.8764044943820225 0.3146067415730337\n",
      "1.0 0.9423076923076923 0.057692307692307696\n",
      "remove wrong rest::  35 38\n",
      "0.8783783783783784 0.8243243243243243 0.013513513513513514\n",
      "0.9387755102040817 0.8979591836734694 0.0\n",
      "remove wrong rest::  0 1\n",
      "0.9489795918367347 0.9285714285714286 0.061224489795918366\n",
      "remove wrong rest::  35 38\n",
      "0.9607843137254902 0.8823529411764706 0.0\n",
      "remove wrong rest::  32 34\n",
      "0.9924242424242424 0.9886363636363636 0.8825757575757576\n",
      "remove wrong rest::  0 1\n",
      "remove wrong rest::  51 51\n",
      "0.9423076923076923 0.8846153846153846 0.038461538461538464\n",
      "1.0 0.9310344827586207 0.034482758620689655\n",
      "0.9591836734693877 0.9387755102040817 0.02040816326530612\n",
      "0.9130434782608695 0.8913043478260869 0.0\n",
      "remove wrong rest::  0 1\n",
      "remove wrong rest::  60 63\n",
      "0.9066666666666666 0.8933333333333333 0.4666666666666667\n",
      "remove wrong rest::  38 40\n",
      "0.94 0.88 0.02\n",
      "0.9814814814814815 0.9629629629629629 0.25925925925925924\n",
      "remove wrong rest::  37 39\n",
      "0.9629629629629629 0.8888888888888888 0.018518518518518517\n",
      "0.9333333333333333 0.9333333333333333 0.0\n",
      "0.9038461538461539 0.9038461538461539 0.0\n",
      "0.9583333333333334 0.875 0.0\n",
      "remove wrong rest::  55 58\n",
      "0.9428571428571428 0.9285714285714286 0.38571428571428573\n",
      "0.9423076923076923 0.9423076923076923 0.019230769230769232\n",
      "0.9178082191780822 0.9178082191780822 0.3424657534246575\n",
      "remove wrong rest::  34 37\n",
      "0.9069767441860465 0.8837209302325582 0.023255813953488372\n",
      "0.9841269841269841 0.9682539682539683 0.06349206349206349\n",
      "remove wrong rest::  34 36\n",
      "0.9791666666666666 0.9375 0.020833333333333332\n",
      "remove wrong rest::  43 45\n",
      "0.967391304347826 0.9130434782608695 0.0\n",
      "remove wrong rest::  42 44\n",
      "remove wrong rest::  45 48\n",
      "0.7666666666666667 0.8 0.18333333333333332\n",
      "remove wrong rest::  33 35\n",
      "0.9863013698630136 0.9452054794520548 0.1232876712328767\n",
      "0.8846153846153846 0.8653846153846154 0.0\n",
      "0.9402985074626866 0.9253731343283582 0.3582089552238806\n",
      "0.9074074074074074 0.9259259259259259 0.07407407407407407\n",
      "remove wrong rest::  44 47\n",
      "0.9981617647058824 0.9944852941176471 0.7849264705882353\n",
      "remove wrong rest::  31 32\n",
      "remove wrong rest::  51 51\n",
      "0.8269230769230769 0.8076923076923077 0.4807692307692308\n",
      "remove wrong rest::  89 89\n",
      "0.9111111111111111 0.8777777777777778 0.5222222222222223\n",
      "remove wrong rest::  49 52\n",
      "0.918918918918919 0.8648648648648649 0.2972972972972973\n",
      "0.8723404255319149 0.8723404255319149 0.48936170212765956\n",
      "remove wrong rest::  24 26\n",
      "0.8947368421052632 0.8947368421052632 0.5\n",
      "0.9375 0.875 0.0\n",
      "remove wrong rest::  59 62\n",
      "0.9594594594594594 0.9054054054054054 0.47297297297297297\n",
      "remove wrong rest::  50 52\n",
      "0.9375 0.859375 0.171875\n",
      "0.975609756097561 0.9634146341463414 0.43902439024390244\n",
      "remove wrong rest::  38 40\n",
      "0.9344262295081968 0.8688524590163934 0.01639344262295082\n",
      "0.7833333333333333 0.75 0.4\n",
      "remove wrong rest::  44 47\n",
      "0.9230769230769231 0.8615384615384616 0.06153846153846154\n",
      "remove wrong rest::  63 65\n",
      "0.9620253164556962 0.9493670886075949 0.46835443037974683\n",
      "remove wrong rest::  45 48\n",
      "0.9508196721311475 0.8852459016393442 0.16393442622950818\n",
      "0.75 0.75 0.4431818181818182\n",
      "remove wrong rest::  48 50\n",
      "0.9680851063829787 0.9574468085106383 0.11702127659574468\n",
      "remove wrong rest::  54 56\n",
      "remove wrong rest::  72 74\n",
      "remove wrong rest::  88 91\n",
      "0.9590163934426229 0.860655737704918 0.21311475409836064\n",
      "final prob 0.9352707843767146\n"
     ]
    }
   ],
   "source": [
    "df_time,anom_scores = bayes_utils.update_combined_res(df_time,start_end_time_pairs,prior_knowledge)"
   ]
  },
  {
   "cell_type": "code",
   "execution_count": 88,
   "metadata": {},
   "outputs": [
    {
     "name": "stdout",
     "output_type": "stream",
     "text": [
      "0.17647058823529413\n",
      "0.9248618784530387\n",
      "0.19696969696969696\n",
      "0.0\n",
      "0.3972602739726027\n",
      "0.0\n",
      "0.4897959183673469\n",
      "0.05555555555555555\n",
      "0.038461538461538464\n",
      "0.46153846153846156\n"
     ]
    },
    {
     "data": {
      "image/png": "[encoded data removed]",
      "text/plain": [
       "<Figure size 432x288 with 1 Axes>"
      ]
     },
     "metadata": {
      "needs_background": "light"
     },
     "output_type": "display_data"
    },
    {
     "data": {
      "image/png": "[encoded data removed]",
      "text/plain": [
       "<Figure size 432x288 with 1 Axes>"
      ]
     },
     "metadata": {
      "needs_background": "light"
     },
     "output_type": "display_data"
    },
    {
     "data": {
      "image/png": "[encoded data removed]",
      "text/plain": [
       "<Figure size 432x288 with 1 Axes>"
      ]
     },
     "metadata": {
      "needs_background": "light"
     },
     "output_type": "display_data"
    },
    {
     "data": {
      "image/png": "[encoded data removed]",
      "text/plain": [
       "<Figure size 432x288 with 1 Axes>"
      ]
     },
     "metadata": {
      "needs_background": "light"
     },
     "output_type": "display_data"
    },
    {
     "data": {
      "image/png": "[encoded data removed]",
      "text/plain": [
       "<Figure size 432x288 with 1 Axes>"
      ]
     },
     "metadata": {
      "needs_background": "light"
     },
     "output_type": "display_data"
    },
    {
     "data": {
      "image/png": "[encoded data removed]",
      "text/plain": [
       "<Figure size 432x288 with 1 Axes>"
      ]
     },
     "metadata": {
      "needs_background": "light"
     },
     "output_type": "display_data"
    },
    {
     "data": {
      "image/png": "[encoded data removed]",
      "text/plain": [
       "<Figure size 432x288 with 1 Axes>"
      ]
     },
     "metadata": {
      "needs_background": "light"
     },
     "output_type": "display_data"
    },
    {
     "data": {
      "image/png": "[encoded data removed]",
      "text/plain": [
       "<Figure size 432x288 with 1 Axes>"
      ]
     },
     "metadata": {
      "needs_background": "light"
     },
     "output_type": "display_data"
    },
    {
     "data": {
      "image/png": "[encoded data removed]",
      "text/plain": [
       "<Figure size 432x288 with 1 Axes>"
      ]
     },
     "metadata": {
      "needs_background": "light"
     },
     "output_type": "display_data"
    },
    {
     "data": {
      "image/png": "[encoded data removed]",
      "text/plain": [
       "<Figure size 432x288 with 1 Axes>"
      ]
     },
     "metadata": {
      "needs_background": "light"
     },
     "output_type": "display_data"
    }
   ],
   "source": [
    "for i in np.random.randint(100,size=10):\n",
    "    start_date,end_date = start_end_time_pairs[i]\n",
    "    process_df= select_short_period_df(df_time,start_date,end_date)\n",
    "\n",
    "\n",
    "    print (anom_scores[i])\n",
    "    process_df.plot(x=\"datetime\",y=[\"label\",'combined_pred'])"
   ]
  },
  {
   "cell_type": "code",
   "execution_count": null,
   "metadata": {},
   "outputs": [],
   "source": []
  },
  {
   "cell_type": "code",
   "execution_count": null,
   "metadata": {},
   "outputs": [],
   "source": []
  },
  {
   "cell_type": "code",
   "execution_count": null,
   "metadata": {},
   "outputs": [],
   "source": []
  },
  {
   "cell_type": "code",
   "execution_count": null,
   "metadata": {},
   "outputs": [],
   "source": []
  },
  {
   "cell_type": "code",
   "execution_count": null,
   "metadata": {},
   "outputs": [],
   "source": []
  }
 ],
 "metadata": {
  "kernelspec": {
   "display_name": "Python 3",
   "language": "python",
   "name": "python3"
  },
  "language_info": {
   "codemirror_mode": {
    "name": "ipython",
    "version": 3
   },
   "file_extension": ".py",
   "mimetype": "text/x-python",
   "name": "python",
   "nbconvert_exporter": "python",
   "pygments_lexer": "ipython3",
   "version": "3.7.3"
  }
 },
 "nbformat": 4,
 "nbformat_minor": 2
}
